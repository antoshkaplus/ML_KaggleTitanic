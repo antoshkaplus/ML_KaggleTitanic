{
 "cells": [
  {
   "cell_type": "code",
   "execution_count": 58,
   "metadata": {
    "collapsed": false
   },
   "outputs": [],
   "source": [
    "# lets put here all imports that we need\n",
    "import random \n",
    "import pandas as pd\n",
    "from sklearn.tree import DecisionTreeClassifier as DeciTree\n",
    "from sklearn.cross_validation import train_test_split\n",
    "from sklearn.grid_search import GridSearchCV\n",
    "from sklearn.cross_validation import cross_val_score\n",
    "import sklearn.linear_model\n",
    "from sklearn.linear_model import LogisticRegressionCV as LogRegCV\n",
    "import numpy as np\n",
    "\n",
    "import helpers\n",
    "reload(helpers)\n",
    "import helpers as h"
   ]
  },
  {
   "cell_type": "code",
   "execution_count": 59,
   "metadata": {
    "collapsed": false,
    "scrolled": true
   },
   "outputs": [
    {
     "name": "stdout",
     "output_type": "stream",
     "text": [
      "0.838383838384\n"
     ]
    },
    {
     "name": "stderr",
     "output_type": "stream",
     "text": [
      "/Library/Python/2.7/site-packages/ipykernel/__main__.py:10: SettingWithCopyWarning: \n",
      "A value is trying to be set on a copy of a slice from a DataFrame.\n",
      "Try using .loc[row_indexer,col_indexer] = value instead\n",
      "\n",
      "See the caveats in the documentation: http://pandas.pydata.org/pandas-docs/stable/indexing.html#indexing-view-versus-copy\n"
     ]
    }
   ],
   "source": [
    "data = h.read_all()\n",
    "h.munge(data)\n",
    "train, test = h.split(data)\n",
    "train_mat = h.prepare_matrix(train)\n",
    "test_mat = h.prepare_matrix(test)\n",
    "cv = h.get_cv(train.Survived)\n",
    "\n",
    "solver = LogRegCV(n_jobs=-1, cv=cv)\n",
    "solver.fit(train_mat, train.Survived)\n",
    "test['Survived'] = solver.predict(test_mat).astype(np.int)\n",
    "print solver.score(train_mat, train.Survived)\n",
    "h.write(test, 'logic_0')\n",
    "\n",
    "\n",
    "# solver = None\n",
    "# print all_cols\n",
    "# def solve(cols=all_cols):\n",
    "#     train, mission = prepare_matrices(cols)\n",
    "#     # have to split train 80/20\n",
    "#     # classification reports asks for predicates....\n",
    "#     global solver\n",
    "#     res = pd.DataFrame({\"PassengerId\": data_test.PassengerId, \"Survived\": res})\n",
    "#     res.to_csv(\"../output/logic_0.csv\", index=False)\n",
    "#     print solver.C_\n",
    "    \n",
    "#     from sklearn.cross_validation import train_test_split\n",
    "#     X_train, X_test, y_train, y_test = train_test_split(train, data_train.Survived, test_size=0.2, random_state=0)\n",
    "#     solver = LogRegCV(n_jobs=-1, cv=3)\n",
    "#     solver.fit(X_train, y_train)\n",
    "#     res = solver.predict(mission)\n",
    "#     res = pd.DataFrame({\"PassengerId\": data_test.PassengerId, \"Survived\": res})\n",
    "#     res.to_csv(\"../output/logic_0.csv\", index=False)\n",
    "    \n",
    "#     print solver.score(X_test, y_test)\n",
    "\n",
    "#     #y_test_pred = solver.predict(X_test)\n",
    "#     #print metrics.classification_report(y_test, y_test_pred)\n",
    "#     #print all_cols\n",
    "#     #print solver.coef_\n",
    "#     \"\"\"\n",
    "#     groups = data_train.groupby('Sex').groups \n",
    "#     males = groups['male']\n",
    "#     females = groups['female']\n",
    "\n",
    "#     tt = np.matrix(train)\n",
    "#     p = solver.predict(tt[males])\n",
    "#     print class_report(data_train.Survived[males], p)\n",
    "    \n",
    "#     scores = cross_val_score(solver, train, data_train.Survived, cv=10)\n",
    "#     #print min(scores)\n",
    "\n",
    "#     tt = np.matrix(train)\n",
    "#     p = solver.predict(tt[females])\n",
    "#     print class_report(data_train.Survived[females], p)\n",
    "#     \"\"\"\n",
    "    \n",
    "#     scores = cross_val_score(solver, train, data_train.Survived, cv=10)\n",
    "#     print scores\n",
    "#     print np.mean(scores), np.std(scores)\n",
    "\n",
    "    \n",
    "# #solve()\n",
    "# noIsFamily = list(all_cols)\n",
    "# noIsFamily.remove('IsFamily')\n",
    "# solve(noIsFamily)\n",
    "    \n",
    "# print solver \n",
    "# \"\"\"\n",
    "# solver = LogRegCV(n_jobs=-1, scoring='roc_auc')\n",
    "# solver.fit(train, data_train.Survived)\n",
    "# res = solver.predict(test)\n",
    "# res = pd.DataFrame({\"PassengerId\": data_test.PassengerId, \"Survived\": res})\n",
    "# res.to_csv(\"../output/logic_1.csv\", index=False)\n",
    "# print solver.score(train, data_train.Survived)\n",
    "\n",
    "\n",
    "# solver = LogRegCV(n_jobs=-1, scoring='average_precision')\n",
    "# solver.fit(train, data_train.Survived)\n",
    "# res = solver.predict(test)\n",
    "\n",
    "# res = pd.DataFrame({\"PassengerId\": data_test.PassengerId, \"Survived\": res})\n",
    "# res.to_csv(\"../output/logic_2.csv\", index=False)\n",
    "# print solver.score(train, data_train.Survived)\n",
    "# \"\"\"\n",
    "\n",
    "# \"\"\"\n",
    "# solver = LogRegCV(n_jobs=-1)\n",
    "# solver.fit(train, data_train.Survived)\n",
    "# model = SelectFromModel(solver, prefit=True)\n",
    "# print model.get_support()\n",
    "\n",
    "\n",
    "# t_new = model.transform(train)\n",
    "# print t_new.shape\n",
    "\n",
    "# res = solver.predict(test)\n",
    "# res = pd.DataFrame({\"PassengerId\": data_test.PassengerId, \"Survived\": res})\n",
    "# res.to_csv(\"../output/logic_1.csv\", index=False)\n",
    "# print solver.score(train, data_train.Survived)\n",
    "\n",
    "# \"\"\""
   ]
  },
  {
   "cell_type": "code",
   "execution_count": null,
   "metadata": {
    "collapsed": false
   },
   "outputs": [],
   "source": [
    "\n"
   ]
  },
  {
   "cell_type": "code",
   "execution_count": null,
   "metadata": {
    "collapsed": true
   },
   "outputs": [],
   "source": []
  }
 ],
 "metadata": {
  "kernelspec": {
   "display_name": "Python 2",
   "language": "python",
   "name": "python2"
  },
  "language_info": {
   "codemirror_mode": {
    "name": "ipython",
    "version": 2
   },
   "file_extension": ".py",
   "mimetype": "text/x-python",
   "name": "python",
   "nbconvert_exporter": "python",
   "pygments_lexer": "ipython2",
   "version": "2.7.10"
  }
 },
 "nbformat": 4,
 "nbformat_minor": 0
}
