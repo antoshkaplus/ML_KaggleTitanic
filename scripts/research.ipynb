{
 "cells": [
  {
   "cell_type": "code",
   "execution_count": 2,
   "metadata": {
    "collapsed": false
   },
   "outputs": [
    {
     "name": "stdout",
     "output_type": "stream",
     "text": [
      "Missing data train set:\n",
      "PassengerId    0.000000\n",
      "Survived       0.000000\n",
      "Pclass         0.000000\n",
      "Name           0.000000\n",
      "Sex            0.000000\n",
      "Age            0.198653\n",
      "SibSp          0.000000\n",
      "Parch          0.000000\n",
      "Ticket         0.000000\n",
      "Fare           0.000000\n",
      "Cabin          0.771044\n",
      "Embarked       0.002245\n",
      "dtype: float64\n",
      "Missing data test set:\n",
      "PassengerId    0.000000\n",
      "Pclass         0.000000\n",
      "Name           0.000000\n",
      "Sex            0.000000\n",
      "Age            0.205742\n",
      "SibSp          0.000000\n",
      "Parch          0.000000\n",
      "Ticket         0.000000\n",
      "Fare           0.002392\n",
      "Cabin          0.782297\n",
      "Embarked       0.000000\n",
      "dtype: float64\n",
      "Titles:\n",
      "Mr              517\n",
      "Miss            182\n",
      "Mrs             125\n",
      "Master           40\n",
      "Dr                7\n",
      "Rev               6\n",
      "Mlle              2\n",
      "Col               2\n",
      "Major             2\n",
      "Lady              1\n",
      "Jonkheer          1\n",
      "Don               1\n",
      "Ms                1\n",
      "Mme               1\n",
      "Capt              1\n",
      "the Countess      1\n",
      "Sir               1\n",
      "Name: Title, dtype: int64\n",
      "\n",
      "Missing data train set:\n",
      "Cabin    687\n",
      "dtype: int64\n",
      "\n",
      "Missing data test set:\n",
      "Cabin    327\n",
      "dtype: int64\n",
      "0\n",
      "0\n",
      "              Fare  Survived\n",
      "Fare      1.000000  0.251627\n",
      "Survived  0.251627  1.000000\n",
      "Survived               0   1\n",
      "Title        Pclass         \n",
      "Aristocratic 1         7   8\n",
      "             2         8   0\n",
      "Master       1         0   3\n",
      "             2         0   9\n",
      "             3        17  11\n",
      "Miss         1         2  47\n",
      "             2         2  32\n",
      "             3        51  51\n",
      "Mr           1        70  37\n",
      "             2        83   8\n",
      "             3       283  36\n",
      "Mrs          1         1  41\n",
      "             2         4  38\n",
      "             3        21  21\n",
      "Do we have null values somewhere in LastName\n",
      "False\n",
      "Missing data train set:\n",
      "PassengerId    0.000000\n",
      "Survived       0.000000\n",
      "Pclass         0.000000\n",
      "Name           0.000000\n",
      "Sex            0.000000\n",
      "Age            0.198653\n",
      "SibSp          0.000000\n",
      "Parch          0.000000\n",
      "Ticket         0.000000\n",
      "Fare           0.000000\n",
      "Cabin          0.771044\n",
      "Embarked       0.002245\n",
      "dtype: float64\n",
      "Missing data test set:\n",
      "PassengerId    0.000000\n",
      "Pclass         0.000000\n",
      "Name           0.000000\n",
      "Sex            0.000000\n",
      "Age            0.205742\n",
      "SibSp          0.000000\n",
      "Parch          0.000000\n",
      "Ticket         0.000000\n",
      "Fare           0.002392\n",
      "Cabin          0.782297\n",
      "Embarked       0.000000\n",
      "dtype: float64\n",
      "Titles:\n",
      "Mr              517\n",
      "Miss            182\n",
      "Mrs             125\n",
      "Master           40\n",
      "Dr                7\n",
      "Rev               6\n",
      "Mlle              2\n",
      "Col               2\n",
      "Major             2\n",
      "Lady              1\n",
      "Jonkheer          1\n",
      "Don               1\n",
      "Ms                1\n",
      "Mme               1\n",
      "Capt              1\n",
      "the Countess      1\n",
      "Sir               1\n",
      "Name: Title, dtype: int64\n",
      "\n",
      "Missing data train set:\n",
      "Cabin    687\n",
      "dtype: int64\n",
      "\n",
      "Missing data test set:\n",
      "Cabin    327\n",
      "dtype: int64\n",
      "0\n",
      "0\n",
      "              Fare  Survived\n",
      "Fare      1.000000  0.251627\n",
      "Survived  0.251627  1.000000\n",
      "Survived               0   1\n",
      "Title        Pclass         \n",
      "Aristocratic 1         7   8\n",
      "             2         8   0\n",
      "Master       1         0   3\n",
      "             2         0   9\n",
      "             3        17  11\n",
      "Miss         1         2  47\n",
      "             2         2  32\n",
      "             3        51  51\n",
      "Mr           1        70  37\n",
      "             2        83   8\n",
      "             3       283  36\n",
      "Mrs          1         1  41\n",
      "             2         4  38\n",
      "             3        21  21\n",
      "Do we have null values somewhere in LastName\n",
      "False\n"
     ]
    },
    {
     "data": {
      "image/png": "[encoded data removed]",
      "text/plain": [
       "<matplotlib.figure.Figure at 0x1128fb810>"
      ]
     },
     "metadata": {},
     "output_type": "display_data"
    },
    {
     "data": {
      "image/png": "[encoded data removed]",
      "text/plain": [
       "<matplotlib.figure.Figure at 0x10ad99510>"
      ]
     },
     "metadata": {},
     "output_type": "display_data"
    },
    {
     "data": {
      "image/png": "[encoded data removed]",
      "text/plain": [
       "<matplotlib.figure.Figure at 0x10f354d50>"
      ]
     },
     "metadata": {},
     "output_type": "display_data"
    },
    {
     "data": {
      "image/png": "[encoded data removed]",
      "text/plain": [
       "<matplotlib.figure.Figure at 0x112ca4f90>"
      ]
     },
     "metadata": {},
     "output_type": "display_data"
    },
    {
     "data": {
      "image/png": "[encoded data removed]",
      "text/plain": [
       "<matplotlib.figure.Figure at 0x11229b690>"
      ]
     },
     "metadata": {},
     "output_type": "display_data"
    },
    {
     "data": {
      "image/png": "[encoded data removed]",
      "text/plain": [
       "<matplotlib.figure.Figure at 0x112d10b50>"
      ]
     },
     "metadata": {},
     "output_type": "display_data"
    },
    {
     "data": {
      "image/png": "[encoded data removed]",
      "text/plain": [
       "<matplotlib.figure.Figure at 0x112e4c9d0>"
      ]
     },
     "metadata": {},
     "output_type": "display_data"
    },
    {
     "data": {
      "image/png": "[encoded data removed]",
      "text/plain": [
       "<matplotlib.figure.Figure at 0x112efc0d0>"
      ]
     },
     "metadata": {},
     "output_type": "display_data"
    },
    {
     "data": {
      "image/png": "[encoded data removed]",
      "text/plain": [
       "<matplotlib.figure.Figure at 0x112781f50>"
      ]
     },
     "metadata": {},
     "output_type": "display_data"
    },
    {
     "data": {
      "image/png": "[encoded data removed]",
      "text/plain": [
       "<matplotlib.figure.Figure at 0x113151650>"
      ]
     },
     "metadata": {},
     "output_type": "display_data"
    }
   ],
   "source": [
    "import init\n",
    "reload(init)\n",
    "from init import * "
   ]
  },
  {
   "cell_type": "code",
   "execution_count": 3,
   "metadata": {
    "collapsed": true
   },
   "outputs": [],
   "source": [
    "from sklearn.metrics import classification_report as class_report"
   ]
  },
  {
   "cell_type": "code",
   "execution_count": 4,
   "metadata": {
    "collapsed": false
   },
   "outputs": [
    {
     "data": {
      "text/plain": [
       "Index([u'PassengerId', u'Survived', u'Pclass', u'Name', u'Sex', u'Age',\n",
       "       u'SibSp', u'Parch', u'Ticket', u'Fare', u'Cabin', u'Embarked', u'Title',\n",
       "       u'TitleCat', u'PclassCat', u'IsCabin', u'LastName',\n",
       "       u'RelativeSurvived'],\n",
       "      dtype='object')"
      ]
     },
     "execution_count": 4,
     "metadata": {},
     "output_type": "execute_result"
    }
   ],
   "source": [
    "data_train.columns"
   ]
  },
  {
   "cell_type": "code",
   "execution_count": 5,
   "metadata": {
    "collapsed": false
   },
   "outputs": [],
   "source": [
    "def add_sex_cat(data):\n",
    "    # all are man\n",
    "    data[\"SexCat\"] = 0\n",
    "    data.ix[data.Sex == \"female\", \"SexCat\"] = 1\n",
    "    \n",
    "    \n",
    "add_sex_cat(data_train)\n",
    "add_sex_cat(data_test)"
   ]
  },
  {
   "cell_type": "code",
   "execution_count": 6,
   "metadata": {
    "collapsed": false
   },
   "outputs": [],
   "source": [
    "def add_embarked_cat(data):\n",
    "    data[\"EmbarkedCat\"] = 0\n",
    "    data.ix[data.Embarked == \"C\", \"EmbarkedCat\"] = 1\n",
    "    data.ix[data.Embarked == \"Q\", \"EmbarkedCat\"] = 2\n",
    "\n",
    "add_embarked_cat(data_train)\n",
    "add_embarked_cat(data_test)"
   ]
  },
  {
   "cell_type": "code",
   "execution_count": 7,
   "metadata": {
    "collapsed": true
   },
   "outputs": [],
   "source": [
    "# lets add IsFamily column\n",
    "def add_is_family(data):\n",
    "    data['Family'] = data.SibSp + data.Parch\n",
    "    data['IsFamily'] = 0\n",
    "    data.ix[data.SibSp + data.Parch > 0, 'IsFamily'] = 1\n",
    "    \n",
    "    \n",
    "add_is_family(data_train)\n",
    "add_is_family(data_test)"
   ]
  },
  {
   "cell_type": "code",
   "execution_count": 8,
   "metadata": {
    "collapsed": false
   },
   "outputs": [
    {
     "data": {
      "text/html": [
       "<div>\n",
       "<table border=\"1\" class=\"dataframe\">\n",
       "  <thead>\n",
       "    <tr style=\"text-align: right;\">\n",
       "      <th></th>\n",
       "      <th>PassengerId</th>\n",
       "      <th>Survived</th>\n",
       "      <th>Pclass</th>\n",
       "      <th>Name</th>\n",
       "      <th>Sex</th>\n",
       "      <th>Age</th>\n",
       "      <th>SibSp</th>\n",
       "      <th>Parch</th>\n",
       "      <th>Ticket</th>\n",
       "      <th>Fare</th>\n",
       "      <th>...</th>\n",
       "      <th>Title</th>\n",
       "      <th>TitleCat</th>\n",
       "      <th>PclassCat</th>\n",
       "      <th>IsCabin</th>\n",
       "      <th>LastName</th>\n",
       "      <th>RelativeSurvived</th>\n",
       "      <th>SexCat</th>\n",
       "      <th>EmbarkedCat</th>\n",
       "      <th>Family</th>\n",
       "      <th>IsFamily</th>\n",
       "    </tr>\n",
       "  </thead>\n",
       "  <tbody>\n",
       "    <tr>\n",
       "      <th>0</th>\n",
       "      <td>1</td>\n",
       "      <td>0</td>\n",
       "      <td>3</td>\n",
       "      <td>Braund, Mr. Owen Harris</td>\n",
       "      <td>male</td>\n",
       "      <td>22</td>\n",
       "      <td>1</td>\n",
       "      <td>0</td>\n",
       "      <td>A/5 21171</td>\n",
       "      <td>7.2500</td>\n",
       "      <td>...</td>\n",
       "      <td>Mr</td>\n",
       "      <td>3</td>\n",
       "      <td>3</td>\n",
       "      <td>0</td>\n",
       "      <td>Braund</td>\n",
       "      <td>0</td>\n",
       "      <td>0</td>\n",
       "      <td>0</td>\n",
       "      <td>1</td>\n",
       "      <td>1</td>\n",
       "    </tr>\n",
       "    <tr>\n",
       "      <th>1</th>\n",
       "      <td>2</td>\n",
       "      <td>1</td>\n",
       "      <td>1</td>\n",
       "      <td>Cumings, Mrs. John Bradley (Florence Briggs Th...</td>\n",
       "      <td>female</td>\n",
       "      <td>38</td>\n",
       "      <td>1</td>\n",
       "      <td>0</td>\n",
       "      <td>PC 17599</td>\n",
       "      <td>71.2833</td>\n",
       "      <td>...</td>\n",
       "      <td>Mrs</td>\n",
       "      <td>4</td>\n",
       "      <td>1</td>\n",
       "      <td>1</td>\n",
       "      <td>Cumings</td>\n",
       "      <td>1</td>\n",
       "      <td>1</td>\n",
       "      <td>1</td>\n",
       "      <td>1</td>\n",
       "      <td>1</td>\n",
       "    </tr>\n",
       "    <tr>\n",
       "      <th>2</th>\n",
       "      <td>3</td>\n",
       "      <td>1</td>\n",
       "      <td>3</td>\n",
       "      <td>Heikkinen, Miss. Laina</td>\n",
       "      <td>female</td>\n",
       "      <td>26</td>\n",
       "      <td>0</td>\n",
       "      <td>0</td>\n",
       "      <td>STON/O2. 3101282</td>\n",
       "      <td>7.9250</td>\n",
       "      <td>...</td>\n",
       "      <td>Miss</td>\n",
       "      <td>2</td>\n",
       "      <td>3</td>\n",
       "      <td>0</td>\n",
       "      <td>Heikkinen</td>\n",
       "      <td>1</td>\n",
       "      <td>1</td>\n",
       "      <td>0</td>\n",
       "      <td>0</td>\n",
       "      <td>0</td>\n",
       "    </tr>\n",
       "    <tr>\n",
       "      <th>3</th>\n",
       "      <td>4</td>\n",
       "      <td>1</td>\n",
       "      <td>1</td>\n",
       "      <td>Futrelle, Mrs. Jacques Heath (Lily May Peel)</td>\n",
       "      <td>female</td>\n",
       "      <td>35</td>\n",
       "      <td>1</td>\n",
       "      <td>0</td>\n",
       "      <td>113803</td>\n",
       "      <td>53.1000</td>\n",
       "      <td>...</td>\n",
       "      <td>Mrs</td>\n",
       "      <td>4</td>\n",
       "      <td>1</td>\n",
       "      <td>1</td>\n",
       "      <td>Futrelle</td>\n",
       "      <td>1</td>\n",
       "      <td>1</td>\n",
       "      <td>0</td>\n",
       "      <td>1</td>\n",
       "      <td>1</td>\n",
       "    </tr>\n",
       "    <tr>\n",
       "      <th>4</th>\n",
       "      <td>5</td>\n",
       "      <td>0</td>\n",
       "      <td>3</td>\n",
       "      <td>Allen, Mr. William Henry</td>\n",
       "      <td>male</td>\n",
       "      <td>35</td>\n",
       "      <td>0</td>\n",
       "      <td>0</td>\n",
       "      <td>373450</td>\n",
       "      <td>8.0500</td>\n",
       "      <td>...</td>\n",
       "      <td>Mr</td>\n",
       "      <td>3</td>\n",
       "      <td>3</td>\n",
       "      <td>0</td>\n",
       "      <td>Allen</td>\n",
       "      <td>1</td>\n",
       "      <td>0</td>\n",
       "      <td>0</td>\n",
       "      <td>0</td>\n",
       "      <td>0</td>\n",
       "    </tr>\n",
       "  </tbody>\n",
       "</table>\n",
       "<p>5 rows × 22 columns</p>\n",
       "</div>"
      ],
      "text/plain": [
       "   PassengerId  Survived  Pclass  \\\n",
       "0            1         0       3   \n",
       "1            2         1       1   \n",
       "2            3         1       3   \n",
       "3            4         1       1   \n",
       "4            5         0       3   \n",
       "\n",
       "                                                Name     Sex  Age  SibSp  \\\n",
       "0                            Braund, Mr. Owen Harris    male   22      1   \n",
       "1  Cumings, Mrs. John Bradley (Florence Briggs Th...  female   38      1   \n",
       "2                             Heikkinen, Miss. Laina  female   26      0   \n",
       "3       Futrelle, Mrs. Jacques Heath (Lily May Peel)  female   35      1   \n",
       "4                           Allen, Mr. William Henry    male   35      0   \n",
       "\n",
       "   Parch            Ticket     Fare    ...    Title TitleCat PclassCat  \\\n",
       "0      0         A/5 21171   7.2500    ...       Mr        3         3   \n",
       "1      0          PC 17599  71.2833    ...      Mrs        4         1   \n",
       "2      0  STON/O2. 3101282   7.9250    ...     Miss        2         3   \n",
       "3      0            113803  53.1000    ...      Mrs        4         1   \n",
       "4      0            373450   8.0500    ...       Mr        3         3   \n",
       "\n",
       "   IsCabin   LastName  RelativeSurvived SexCat  EmbarkedCat  Family  IsFamily  \n",
       "0        0     Braund                 0      0            0       1         1  \n",
       "1        1    Cumings                 1      1            1       1         1  \n",
       "2        0  Heikkinen                 1      1            0       0         0  \n",
       "3        1   Futrelle                 1      1            0       1         1  \n",
       "4        0      Allen                 1      0            0       0         0  \n",
       "\n",
       "[5 rows x 22 columns]"
      ]
     },
     "execution_count": 8,
     "metadata": {},
     "output_type": "execute_result"
    }
   ],
   "source": [
    "data_train.head()"
   ]
  },
  {
   "cell_type": "code",
   "execution_count": 9,
   "metadata": {
    "collapsed": false
   },
   "outputs": [
    {
     "name": "stdout",
     "output_type": "stream",
     "text": [
      "['0' 'A' 'B' 'C' 'D' 'E' 'F']\n",
      "['0' 'A' 'B' 'C' 'D' 'E' 'F']\n",
      "                        0    1\n",
      "TicketType  Survived          \n",
      "0           0         410  410\n",
      "            1         255  255\n",
      "A./5.       0           2    2\n",
      "A.5.        0           2    2\n",
      "A/4         0           3    3\n",
      "A/4.        0           3    3\n",
      "A/5         0           9    9\n",
      "            1           1    1\n",
      "A/5.        0           6    6\n",
      "            1           1    1\n",
      "A/S         0           1    1\n",
      "A4.         0           1    1\n",
      "C           0           3    3\n",
      "            1           2    2\n",
      "C.A.        0          14   14\n",
      "            1          13   13\n",
      "C.A./SOTON  0           1    1\n",
      "CA          0           6    6\n",
      "CA.         0           7    7\n",
      "            1           1    1\n",
      "F.C.        0           1    1\n",
      "F.C.C.      0           1    1\n",
      "            1           4    4\n",
      "Fa          0           1    1\n",
      "P/PP        0           1    1\n",
      "            1           1    1\n",
      "PC          0          21   21\n",
      "            1          39   39\n",
      "PP          0           1    1\n",
      "            1           2    2\n",
      "S.C./A.4.   0           1    1\n",
      "S.C./PARIS  0           1    1\n",
      "            1           1    1\n",
      "S.O./P.P.   0           3    3\n",
      "S.O.C.      0           5    5\n",
      "S.O.P.      0           1    1\n",
      "S.P.        0           1    1\n",
      "S.W./PP     1           1    1\n",
      "SC          1           1    1\n",
      "SC/AH       0           1    1\n",
      "            1           1    1\n",
      "SC/AH Basle 1           1    1\n",
      "SC/PARIS    0           3    3\n",
      "            1           2    2\n",
      "SC/Paris    0           2    2\n",
      "            1           2    2\n",
      "SCO/W       0           1    1\n",
      "SO/C        1           1    1\n",
      "SOTON/O.Q.  0           7    7\n",
      "            1           1    1\n",
      "SOTON/O2    0           2    2\n",
      "SOTON/OQ    0           6    6\n",
      "            1           1    1\n",
      "STON/O 2.   0           7    7\n",
      "            1           5    5\n",
      "STON/O2.    0           3    3\n",
      "            1           3    3\n",
      "SW/PP       1           1    1\n",
      "W./C.       0           8    8\n",
      "            1           1    1\n",
      "W.E.P.      0           1    1\n",
      "W/C         0           1    1\n",
      "WE/P        0           1    1\n",
      "            1           1    1\n"
     ]
    }
   ],
   "source": [
    "from sklearn.preprocessing import LabelEncoder\n",
    "\n",
    "\n",
    "# fill-in cabin letter use '0' if no cabin letter present\n",
    "def add_cabin_letter(data):\n",
    "    s = data['Cabin'].notnull()\n",
    "    data['CabinLetter'] = '0'\n",
    "    data['CabinNumber'] = '0'\n",
    "    \n",
    "    data.ix[s, 'CabinLetter'] = data[s].Cabin.str.extract(\"([a-zA-Z ]+).*\")\n",
    "    data.ix[data.CabinLetter >= 'F', 'CabinLetter'] = 'F'\n",
    "    #data.ix[data.CabinLetter >= 'D', 'CabinLetter'] = 'D'\n",
    "    \n",
    "    data.ix[s, 'CabinNumber'] = data[s].Cabin.str.extract(\"[a-zA-Z].*?(\\d+)\")\n",
    "    data.CabinNumber.fillna('0', inplace=True)\n",
    "    data.CabinNumber = data.CabinNumber.astype(int)\n",
    "    \n",
    "    enc = LabelEncoder()\n",
    "    enc.fit(data.CabinLetter)\n",
    "    # do we really need this???\n",
    "    data['CabinLetterCat'] = enc.transform(data.CabinLetter) \n",
    "    data['CabinLetterNum'] = data.CabinLetterCat\n",
    "    \n",
    "    # combine number and letter of cabin\n",
    "    #data['CabinLetNumComb'] = data['CabinLetterCat'] .map('${:,.2f}'.format)\n",
    "    \n",
    "    \n",
    "add_cabin_letter(data_train)\n",
    "add_cabin_letter(data_test)\n",
    "\n",
    "\n",
    "#print data_train.groupby([\"CabinLetter\", \"Sex\", \"Survived\"]).size()\n",
    "#p = data_train.sort_values(by='CabinNumber').groupby([\"CabinNumber\", \"Sex\", \"Survived\"]).size()\n",
    "#print p\n",
    "\n",
    "data_all['TicketType'] = data_all.Ticket.str.extract(\"(.*) \\d+\")\n",
    "data_all['TicketType'].fillna('0', inplace=True)\n",
    "\n",
    "data_train['TicketType'] = data_train.Ticket.str.extract(\"(.*) \\d+\")\n",
    "data_train['TicketType'].fillna('0', inplace=True)\n",
    "\n",
    "with pd.option_context('display.max_rows', 10000, 'display.max_columns', 3):\n",
    "    p_0 = data_all.groupby(['TicketType', 'Survived']).size()\n",
    "    p_1 = data_train.groupby(['TicketType', 'Survived']).size()\n",
    "    print pd.concat([p_0, p_1], axis=1)\n",
    "\n",
    "data_train.groupby([\"Ticket\"]).size()\n",
    "\n",
    "# lets try to extract last digits\n",
    "data_train['TicketType'] = data_train.Ticket.str.extract(\"(.*) \\d+\")\n",
    "data_train['TicketType'].fillna('0', inplace=True)\n",
    "\n",
    "data_train['TicketTypeFirstLetter'] = data_train.TicketType.str[0]\n",
    "\n",
    "#print data_train.groupby(['TicketTypeFirstLetter', 'Sex', 'Survived']).size()\n",
    "#df['Date'] = df['Date'].apply(lambda x: int(str(x)[-4:]))\n",
    "\n",
    "# need fcking graph here\n",
    "\n",
    "# lets take a look at ticket numbers where there are only ticket numbers... nothing else\n",
    "\n",
    "\n",
    "yo = data_train.groupby(['CabinLetter', 'Survived']).size()\n",
    "#yo = yo.unstack()\n",
    "#yo.fillna(0, inplace=True)\n",
    "#print yo"
   ]
  },
  {
   "cell_type": "code",
   "execution_count": 10,
   "metadata": {
    "collapsed": false
   },
   "outputs": [
    {
     "name": "stdout",
     "output_type": "stream",
     "text": [
      "['f1', 'f1_weighted', 'f1_samples', 'recall_samples', 'recall_micro', 'adjusted_rand_score', 'recall_macro', 'mean_absolute_error', 'precision_macro', 'precision_weighted', 'f1_macro', 'recall_weighted', 'accuracy', 'precision_samples', 'median_absolute_error', 'precision', 'log_loss', 'precision_micro', 'average_precision', 'roc_auc', 'r2', 'recall', 'mean_squared_error', 'f1_micro']\n"
     ]
    }
   ],
   "source": [
    "from sklearn.linear_model import LogisticRegressionCV as LogRegCV\n",
    "from sklearn.preprocessing import OneHotEncoder\n",
    "from sklearn import metrics\n",
    "from sklearn.feature_selection import SelectFromModel\n",
    "from sklearn.ensemble import RandomForestClassifier as RandForest \n",
    "\n",
    "\n",
    "print metrics.SCORERS.keys()"
   ]
  },
  {
   "cell_type": "code",
   "execution_count": 11,
   "metadata": {
    "collapsed": false
   },
   "outputs": [
    {
     "name": "stdout",
     "output_type": "stream",
     "text": [
      "5\n",
      "3\n",
      "2\n"
     ]
    }
   ],
   "source": [
    "print data_train.TitleCat.max() + 1\n",
    "print len(data_train.Pclass.value_counts())\n",
    "print len(data_train.SexCat.value_counts())"
   ]
  },
  {
   "cell_type": "code",
   "execution_count": 12,
   "metadata": {
    "collapsed": true
   },
   "outputs": [],
   "source": [
    "# lets see what we can do with the ticket"
   ]
  },
  {
   "cell_type": "code",
   "execution_count": 13,
   "metadata": {
    "collapsed": false
   },
   "outputs": [],
   "source": [
    "# don't need IsFamily as Family exists\n",
    "# after adding title logic reg became worth. random tree becomes better\n",
    "all_cols = [\"TitleCat\", \"Pclass\", \"SexCat\", \"Age\", \"Fare\", \"EmbarkedCat\", \n",
    "            \"SibSp\", \"Parch\", 'Family', 'IsFamily', \"CabinLetterCat\", \"CabinLetterNum\", 'CabinNumber']#, 'RelativeSurvived'] #, 'TicketTypeFirstLetter']\n",
    "\n",
    "# def transform_data(data, cols=all_cols):\n",
    "#     mat = np.matrix(data[cols], dtype=np.float64)\n",
    "#     cat_fs = []\n",
    "#     for i, c in enumerate(cols):\n",
    "#         if (c == 'Pclass' or c == 'EmbarkedCat' or c == 'TitleCat' \n",
    "#             or c == 'CabinLetterCat' or c == 'TicketTypeFirstLetter'):\n",
    "#             category_features.append(i)\n",
    "#     enc = OneHotEncoder(categorical_features=cat_fs)\n",
    "#     enc.fit(mat)\n",
    "#     return enc.transform(mat, )\n",
    "    \n",
    "# cols : list of columns\n",
    "def prepare_matrices(cols=all_cols):\n",
    "    # sex is binary\n",
    "    mat_train = np.matrix(data_train[cols], dtype=np.float64)\n",
    "    mat_test = np.matrix(data_test[cols], dtype=np.float64)\n",
    "\n",
    "    category_features = []\n",
    "    # cabin should not be category as it's more like numeric\n",
    "    for i, c in enumerate(cols):\n",
    "        if (c == 'Pclass' or c == 'EmbarkedCat' or c == 'TitleCat' \n",
    "            or c == 'CabinLetterCat' or c == 'TicketTypeFirstLetter'):\n",
    "            category_features.append(i)\n",
    "    enc = OneHotEncoder(categorical_features=category_features, sparse=False)\n",
    "    enc.fit(mat_train)\n",
    "    return tuple(map(enc.transform, [mat_train, mat_test]))"
   ]
  },
  {
   "cell_type": "code",
   "execution_count": 14,
   "metadata": {
    "collapsed": false
   },
   "outputs": [
    {
     "ename": "KeyError",
     "evalue": "\"['CabinLetterNumCabinNumber'] not in index\"",
     "output_type": "error",
     "traceback": [
      "\u001b[0;31m---------------------------------------------------------------------------\u001b[0m",
      "\u001b[0;31mKeyError\u001b[0m                                  Traceback (most recent call last)",
      "\u001b[0;32m<ipython-input-14-460af8236b1e>\u001b[0m in \u001b[0;36m<module>\u001b[0;34m()\u001b[0m\n\u001b[0;32m----> 1\u001b[0;31m \u001b[0mdata_train\u001b[0m\u001b[0;34m[\u001b[0m\u001b[0;34m[\u001b[0m\u001b[0;34m'Survived'\u001b[0m\u001b[0;34m]\u001b[0m \u001b[0;34m+\u001b[0m \u001b[0mall_cols\u001b[0m\u001b[0;34m]\u001b[0m\u001b[0;34m.\u001b[0m\u001b[0mcorr\u001b[0m\u001b[0;34m(\u001b[0m\u001b[0;34m)\u001b[0m\u001b[0;34m\u001b[0m\u001b[0m\n\u001b[0m",
      "\u001b[0;32m/opt/local/Library/Frameworks/Python.framework/Versions/2.7/lib/python2.7/site-packages/pandas/core/frame.pyc\u001b[0m in \u001b[0;36m__getitem__\u001b[0;34m(self, key)\u001b[0m\n\u001b[1;32m   1961\u001b[0m         \u001b[0;32mif\u001b[0m \u001b[0misinstance\u001b[0m\u001b[0;34m(\u001b[0m\u001b[0mkey\u001b[0m\u001b[0;34m,\u001b[0m \u001b[0;34m(\u001b[0m\u001b[0mSeries\u001b[0m\u001b[0;34m,\u001b[0m \u001b[0mnp\u001b[0m\u001b[0;34m.\u001b[0m\u001b[0mndarray\u001b[0m\u001b[0;34m,\u001b[0m \u001b[0mIndex\u001b[0m\u001b[0;34m,\u001b[0m \u001b[0mlist\u001b[0m\u001b[0;34m)\u001b[0m\u001b[0;34m)\u001b[0m\u001b[0;34m:\u001b[0m\u001b[0;34m\u001b[0m\u001b[0m\n\u001b[1;32m   1962\u001b[0m             \u001b[0;31m# either boolean or fancy integer index\u001b[0m\u001b[0;34m\u001b[0m\u001b[0;34m\u001b[0m\u001b[0m\n\u001b[0;32m-> 1963\u001b[0;31m             \u001b[0;32mreturn\u001b[0m \u001b[0mself\u001b[0m\u001b[0;34m.\u001b[0m\u001b[0m_getitem_array\u001b[0m\u001b[0;34m(\u001b[0m\u001b[0mkey\u001b[0m\u001b[0;34m)\u001b[0m\u001b[0;34m\u001b[0m\u001b[0m\n\u001b[0m\u001b[1;32m   1964\u001b[0m         \u001b[0;32melif\u001b[0m \u001b[0misinstance\u001b[0m\u001b[0;34m(\u001b[0m\u001b[0mkey\u001b[0m\u001b[0;34m,\u001b[0m \u001b[0mDataFrame\u001b[0m\u001b[0;34m)\u001b[0m\u001b[0;34m:\u001b[0m\u001b[0;34m\u001b[0m\u001b[0m\n\u001b[1;32m   1965\u001b[0m             \u001b[0;32mreturn\u001b[0m \u001b[0mself\u001b[0m\u001b[0;34m.\u001b[0m\u001b[0m_getitem_frame\u001b[0m\u001b[0;34m(\u001b[0m\u001b[0mkey\u001b[0m\u001b[0;34m)\u001b[0m\u001b[0;34m\u001b[0m\u001b[0m\n",
      "\u001b[0;32m/opt/local/Library/Frameworks/Python.framework/Versions/2.7/lib/python2.7/site-packages/pandas/core/frame.pyc\u001b[0m in \u001b[0;36m_getitem_array\u001b[0;34m(self, key)\u001b[0m\n\u001b[1;32m   2005\u001b[0m             \u001b[0;32mreturn\u001b[0m \u001b[0mself\u001b[0m\u001b[0;34m.\u001b[0m\u001b[0mtake\u001b[0m\u001b[0;34m(\u001b[0m\u001b[0mindexer\u001b[0m\u001b[0;34m,\u001b[0m \u001b[0maxis\u001b[0m\u001b[0;34m=\u001b[0m\u001b[0;36m0\u001b[0m\u001b[0;34m,\u001b[0m \u001b[0mconvert\u001b[0m\u001b[0;34m=\u001b[0m\u001b[0mFalse\u001b[0m\u001b[0;34m)\u001b[0m\u001b[0;34m\u001b[0m\u001b[0m\n\u001b[1;32m   2006\u001b[0m         \u001b[0;32melse\u001b[0m\u001b[0;34m:\u001b[0m\u001b[0;34m\u001b[0m\u001b[0m\n\u001b[0;32m-> 2007\u001b[0;31m             \u001b[0mindexer\u001b[0m \u001b[0;34m=\u001b[0m \u001b[0mself\u001b[0m\u001b[0;34m.\u001b[0m\u001b[0mix\u001b[0m\u001b[0;34m.\u001b[0m\u001b[0m_convert_to_indexer\u001b[0m\u001b[0;34m(\u001b[0m\u001b[0mkey\u001b[0m\u001b[0;34m,\u001b[0m \u001b[0maxis\u001b[0m\u001b[0;34m=\u001b[0m\u001b[0;36m1\u001b[0m\u001b[0;34m)\u001b[0m\u001b[0;34m\u001b[0m\u001b[0m\n\u001b[0m\u001b[1;32m   2008\u001b[0m             \u001b[0;32mreturn\u001b[0m \u001b[0mself\u001b[0m\u001b[0;34m.\u001b[0m\u001b[0mtake\u001b[0m\u001b[0;34m(\u001b[0m\u001b[0mindexer\u001b[0m\u001b[0;34m,\u001b[0m \u001b[0maxis\u001b[0m\u001b[0;34m=\u001b[0m\u001b[0;36m1\u001b[0m\u001b[0;34m,\u001b[0m \u001b[0mconvert\u001b[0m\u001b[0;34m=\u001b[0m\u001b[0mTrue\u001b[0m\u001b[0;34m)\u001b[0m\u001b[0;34m\u001b[0m\u001b[0m\n\u001b[1;32m   2009\u001b[0m \u001b[0;34m\u001b[0m\u001b[0m\n",
      "\u001b[0;32m/opt/local/Library/Frameworks/Python.framework/Versions/2.7/lib/python2.7/site-packages/pandas/core/indexing.pyc\u001b[0m in \u001b[0;36m_convert_to_indexer\u001b[0;34m(self, obj, axis, is_setter)\u001b[0m\n\u001b[1;32m   1148\u001b[0m                 \u001b[0mmask\u001b[0m \u001b[0;34m=\u001b[0m \u001b[0mcheck\u001b[0m \u001b[0;34m==\u001b[0m \u001b[0;34m-\u001b[0m\u001b[0;36m1\u001b[0m\u001b[0;34m\u001b[0m\u001b[0m\n\u001b[1;32m   1149\u001b[0m                 \u001b[0;32mif\u001b[0m \u001b[0mmask\u001b[0m\u001b[0;34m.\u001b[0m\u001b[0many\u001b[0m\u001b[0;34m(\u001b[0m\u001b[0;34m)\u001b[0m\u001b[0;34m:\u001b[0m\u001b[0;34m\u001b[0m\u001b[0m\n\u001b[0;32m-> 1150\u001b[0;31m                     \u001b[0;32mraise\u001b[0m \u001b[0mKeyError\u001b[0m\u001b[0;34m(\u001b[0m\u001b[0;34m'%s not in index'\u001b[0m \u001b[0;34m%\u001b[0m \u001b[0mobjarr\u001b[0m\u001b[0;34m[\u001b[0m\u001b[0mmask\u001b[0m\u001b[0;34m]\u001b[0m\u001b[0;34m)\u001b[0m\u001b[0;34m\u001b[0m\u001b[0m\n\u001b[0m\u001b[1;32m   1151\u001b[0m \u001b[0;34m\u001b[0m\u001b[0m\n\u001b[1;32m   1152\u001b[0m                 \u001b[0;32mreturn\u001b[0m \u001b[0m_values_from_object\u001b[0m\u001b[0;34m(\u001b[0m\u001b[0mindexer\u001b[0m\u001b[0;34m)\u001b[0m\u001b[0;34m\u001b[0m\u001b[0m\n",
      "\u001b[0;31mKeyError\u001b[0m: \"['CabinLetterNumCabinNumber'] not in index\""
     ]
    }
   ],
   "source": [
    "data_train[['Survived'] + all_cols].corr()"
   ]
  },
  {
   "cell_type": "code",
   "execution_count": null,
   "metadata": {
    "collapsed": false
   },
   "outputs": [],
   "source": [
    "# big Pclass, IsCabin;\n",
    "\n",
    "# we have to do feature selection\n",
    "\n",
    "\"\"\"\n",
    "# lets find out what important features we have here\n",
    "from sklearn.feature_selection import SelectKBest, f_classif\n",
    "\n",
    "\n",
    "tt, mission = prepare_matrices()\n",
    "print tt.toarray()[0,:]\n",
    "print mission.toarray()[0,:]\n",
    "selector = SelectKBest(f_classif, k=5)\n",
    "selector.fit(tt, data_train.Survived)\n",
    "scores = -np.log10(selector.pvalues_)\n",
    "\n",
    "print scores\n",
    "#plt.xticks(range(len(predictors)), predictors, rotation='vertical')\n",
    "\"\"\""
   ]
  },
  {
   "cell_type": "code",
   "execution_count": null,
   "metadata": {
    "collapsed": true
   },
   "outputs": [],
   "source": []
  }
 ],
 "metadata": {
  "kernelspec": {
   "display_name": "Python 2",
   "language": "python",
   "name": "python2"
  },
  "language_info": {
   "codemirror_mode": {
    "name": "ipython",
    "version": 2
   },
   "file_extension": ".py",
   "mimetype": "text/x-python",
   "name": "python",
   "nbconvert_exporter": "python",
   "pygments_lexer": "ipython2",
   "version": "2.7.10"
  }
 },
 "nbformat": 4,
 "nbformat_minor": 0
}
